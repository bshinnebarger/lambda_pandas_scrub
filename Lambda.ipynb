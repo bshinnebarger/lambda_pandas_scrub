{
 "cells": [
  {
   "cell_type": "code",
   "execution_count": null,
   "metadata": {},
   "outputs": [],
   "source": [
    "import logging\n",
    "import urllib.request\n",
    "import re\n",
    "import os\n",
    "import boto3\n",
    "import json\n",
    "import pprint\n",
    "from pathlib import Path\n",
    "from datetime import datetime\n",
    "\n",
    "import pandas as pd\n",
    "import numpy as np\n",
    "import s3fs\n",
    "\n",
    "import data_utils\n",
    "import aws_utils\n",
    "\n",
    "# You may want to do it this way if you are debuging / editing the support files \n",
    "# modules imported via aimport will before you execute any cell\n",
    "# %load_ext autoreload\n",
    "# %autoreload 1\n",
    "# %aimport data_utils\n",
    "# %aimport aws_utils"
   ]
  },
  {
   "cell_type": "markdown",
   "metadata": {},
   "source": [
    "## First we'll establish some basic logging"
   ]
  },
  {
   "cell_type": "code",
   "execution_count": null,
   "metadata": {},
   "outputs": [],
   "source": [
    "logger = logging.getLogger('main')\n",
    "logger.setLevel(logging.DEBUG)\n",
    "\n",
    "s_tdy = datetime.today().strftime('%m-%d-%Y')\n",
    "main_log = Path(f'logs/chi-town-lambda_{s_tdy}.log')\n",
    "if not main_log.parent.exists(): main_log.parent.mkdir(parents=True, exist_ok=True)\n",
    "if main_log.exists(): os.remove(main_log)\n",
    "\n",
    "# create console handler and set level to debug\n",
    "ch = logging.StreamHandler()\n",
    "ch_main_log = logging.FileHandler(main_log)\n",
    "ch.setLevel(logging.DEBUG)\n",
    "ch_main_log.setLevel(logging.DEBUG)\n",
    "\n",
    "# create formatter\n",
    "formatter = logging.Formatter('%(asctime)s - %(name)s - %(levelname)s - %(funcName)s - %(message)s')\n",
    "\n",
    "# add formatter to ch\n",
    "ch.setFormatter(formatter)\n",
    "ch_main_log.setFormatter(formatter)\n",
    "\n",
    "logger.addHandler(ch)\n",
    "logger.addHandler(ch_main_log)"
   ]
  },
  {
   "cell_type": "markdown",
   "metadata": {},
   "source": [
    "## Let's make sure our Lambda function exists\n",
    "\n",
    "<font color=red>If you named your function something other than scrubChiTownFile, update the cell below</font>"
   ]
  },
  {
   "cell_type": "code",
   "execution_count": null,
   "metadata": {},
   "outputs": [],
   "source": [
    "LAMBDA_FUNCTION = 'scrubChiTownFile'\n",
    "lambda_client = boto3.client('lambda')"
   ]
  },
  {
   "cell_type": "code",
   "execution_count": null,
   "metadata": {},
   "outputs": [],
   "source": [
    "# You should see the details of your function if all is well\n",
    "my_lambda_fn = lambda_client.get_function(FunctionName=LAMBDA_FUNCTION)\n",
    "if 'Configuration' in my_lambda_fn:\n",
    "    pprint.pprint(my_lambda_fn['Configuration'])"
   ]
  },
  {
   "cell_type": "markdown",
   "metadata": {},
   "source": [
    "## Let's fire off our data to our lambda function\n",
    "\n",
    "<font color=red>Make sure to change the name of the S3_BUCKET to your bucket</font>"
   ]
  },
  {
   "cell_type": "code",
   "execution_count": null,
   "metadata": {},
   "outputs": [],
   "source": [
    "s3 = s3fs.S3FileSystem()\n",
    "FILE_PATTERN = re.compile('.*?(\\d+)\\.csv')\n",
    "S3_BUCKET = 'chi-town-scrub-data'\n",
    "\n",
    "s3_files = aws_utils.get_s3_files_to_process(s3, FILE_PATTERN, S3_BUCKET, '')\n",
    "s3_files"
   ]
  },
  {
   "cell_type": "code",
   "execution_count": null,
   "metadata": {},
   "outputs": [],
   "source": [
    "for _, s3_file in s3_files:\n",
    "\n",
    "    s3_bucket = s3_file.split('/')[0]\n",
    "    s3_key = '/'.join(s3_file.split('/')[1:])\n",
    "\n",
    "    payload = {'s3_bucket': s3_bucket, 's3_key': s3_key}\n",
    "    logger.info(f'Sending payload {payload}')\n",
    "\n",
    "    respose = lambda_client.invoke(FunctionName=LAMBDA_FUNCTION,\n",
    "                         InvocationType='Event',\n",
    "                         Payload=json.dumps(payload))\n",
    "\n",
    "    if response['StatusCode'] != 202:\n",
    "        logger.error('Something\"s gone horribly wrong')\n",
    "        break"
   ]
  },
  {
   "cell_type": "markdown",
   "metadata": {},
   "source": [
    "## Head over to CloudWatch from the AWS Console to see our Lambdas in action\n",
    "\n",
    "On the left of the CloudWatch dashboard, click Logs, then find the log group for our lambda function\n",
    "\n",
    "## After that, look in your S3 bucket to confirm our files have been processed"
   ]
  },
  {
   "cell_type": "markdown",
   "metadata": {},
   "source": [
    "<font size=24 color=blue>Et Voila! Now we're supercomputing!</font>"
   ]
  }
 ],
 "metadata": {
  "kernelspec": {
   "display_name": "conda_python3",
   "language": "python",
   "name": "conda_python3"
  },
  "language_info": {
   "codemirror_mode": {
    "name": "ipython",
    "version": 3
   },
   "file_extension": ".py",
   "mimetype": "text/x-python",
   "name": "python",
   "nbconvert_exporter": "python",
   "pygments_lexer": "ipython3",
   "version": "3.6.5"
  }
 },
 "nbformat": 4,
 "nbformat_minor": 2
}
